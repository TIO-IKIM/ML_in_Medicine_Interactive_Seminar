{
 "cells": [
  {
   "attachments": {},
   "cell_type": "markdown",
   "metadata": {},
   "source": [
    "# Machine Learning in Medicine\n",
    "\n",
    "## Chapter 0: \"Introduction to Python\"\n",
    "\n",
    "Welcome to the \"Machine Learning in Medicine\" seminar, we're glad you've made it here!\n",
    "\n",
    "Over the course of the following chapter, we will give you a quick introduction to Python, and some general tools you will probably find useful to know about. This tutorial is designed to be quick to complete. If you feel uncertain about some aspects of Python (maybe you're new to programming or find Python weird), that's no problem. There is a plethora of online tutorials for Python which are quite good.\n",
    "\n",
    "Now for some general rules.\n",
    "\n",
    "1) As people have different levels of prior knowledge about programming, some of you may find the following tasks to be extremely easy. If that is the case for you, you can skip any and all of the tasks in this notebook that you don't feel you need and immediately jump to \"Chapter 1: An introduction to PyTorch\".\n",
    "2) *No question is stupid*. If you don't know how something works, step 1 is to try and formulate your problem as a google search, and see if someone else asked the same question that you have. Usually they have. If you still cannot find an answer, or the problem is difficult to google search, feel free to talk to any of the PhDs supervising the course. That's what we're here for. Similarly, if you have a question about something in these prepared notebooks, ask it. We are not perfect and neither are the tutorials, so chances are that some things warrant additional explanation by us, or are even a little wrong.\n",
    "3) Experiment. Try to take apart the code and put it back together. The more you actually do instead of only read, the more will the solution stick in your memory. Counterintuitively, this is particularly true if you *don't* understand what the code you just executed actually does. One of the best ways to learn is to take apart someone elses code and reassemble it, or think of a small, private project that you want to do and try to realize it in Python. Learning by doing.\n",
    "4) If you ever find yourself thinking \"This should be a really common use case\", it probably is. Try to express what you want in terms of Python lingo and you will almost certainly find what you are looking for on Google and Stackoverflow. Most of the time, it is even already a single function or class in a package you already have. Finding out about features in this way is basically the norm, rather than the exception.\n",
    "\n",
    "Lastly, don't feel too stressed about grading or presenting your solutions. The things we will put together are complicated and take time to assemble and test. If your solution to a problem mostly works and delivers some result, but there is also a couple errors, we count that as a success."
   ]
  },
  {
   "attachments": {},
   "cell_type": "markdown",
   "metadata": {},
   "source": [
    "### Chapter 0.1: \"Variables and Built-ins\"\n",
    "\n",
    "Python is a high-level language, built on C. This means that in Python it is, usually, comparatively easy to get started and code *something* which works. The downside is that performance occasionally suffers a little bit. Most machine learning nowadays is done in Python, but the underlying code (that runs \"under the hood\" so to speak) is implemented in faster languages (C, C++, etc.). Thankfully, some very talented programmers have already done the hard part of creating extremely fast basic math operations running on the GPUs, and we only need to write the comparatively easy Python code. Eventually, the Python code actually makes use of their code, which means that we get the best of both worlds - easy code and fast/efficient implementation.\n",
    "\n",
    "Let's check out some basics.\n",
    "\n",
    "You can execute a block of code by selecting it with the mouse and pressing Shift + Enter, or by pressing the little play button on the top left corner of the block."
   ]
  },
  {
   "cell_type": "code",
   "execution_count": null,
   "metadata": {},
   "outputs": [],
   "source": [
    "# In Python, when we declare a variable, all we need to do is give it a name, and tell it what it is.\n",
    "# Instead of explicitly requiring us to tell it what we have given it, Python infers the so-called type\n",
    "# of the variable on its own.\n",
    "\n",
    "# Python immediately knows that a is an integer, that b is a floating point number (in short: float),\n",
    "# and that the my_pet variable is a string.\n",
    "\n",
    "a = 1\n",
    "b = 2.5\n",
    "my_pet = \"dog\"\n",
    "\n",
    "# We can look at almost anything (not images) in Python using the print() function.\n",
    "# Here, we use it to tell us what the value of the variable is, and what the type of the variable is.\n",
    "\n",
    "print(a)\n",
    "print(type(a))\n",
    "\n",
    "# A good thing to keep in mind is that both you and other people will read your code. This means that\n",
    "# you want to keep it tidy:\n",
    "# 1) If there is code that doesn't have anything to do with other code, maybe leave a blank line.\n",
    "# 2) If you want to tell someone what you're doing, maybe write a comment (start the line with a '#') to\n",
    "# explain what you are doing.\n",
    "# 3) And, most importantly, if you create a variable, name it appropriately. For example, if you want to\n",
    "# have a variable that contains your dog's name, Sparky:\n",
    "\n",
    "x = \"Sparky\"        # Not a good name, because you won't remember what x stands for in a few days.\n",
    "pet_name = \"Sparky\" # A very good name, because it is short, but tells you what it represents.\n",
    "the_name_of_my_pet_whomst_i_love = \"Sparky\" # Not a good name, because it is far too long."
   ]
  },
  {
   "cell_type": "code",
   "execution_count": null,
   "metadata": {},
   "outputs": [],
   "source": [
    "# The print() function is a so-called in-built function. This means that no matter which other things\n",
    "# you may be working with, these functions are always available to use. There is a number of other\n",
    "# in-builts which you will find extremely useful. For example, most math is done using a single sign:\n",
    "\n",
    "c = a + b   # addition\n",
    "d = b - a   # subtraction\n",
    "e = a * b   # multiplication\n",
    "f = a / b   # division\n",
    "g = a ** b  # power\n",
    "h = b // a  # floor division\n",
    "i = b % a   # modulo\n",
    "j = (a+1)*b # parentheses\n",
    "\n",
    "# Python also allows easy comparisons. A '==' checks, whether the left and right side evaluate to the\n",
    "# same value. A '!=' checks whether the left and right side evaluate to different values. \n",
    "# You can also use '>', '<', '>=' and '<=' for comparisons.\n",
    "# When you print the result, or save it to a new variable, it will be either 'True' or 'False'.\n",
    "\n",
    "print(a == b)\n",
    "print(a != b)\n",
    "k = (a == b)\n",
    "print(k)"
   ]
  },
  {
   "cell_type": "code",
   "execution_count": null,
   "metadata": {},
   "outputs": [],
   "source": [
    "# Because Python is your friend, it also allows you to make comparisons using 'is'. It is useful for\n",
    "# things other than math, too! You can compare pretty much anything.\n",
    "\n",
    "print(a is b)\n",
    "print(\"Hello\" is \"hello\")"
   ]
  },
  {
   "cell_type": "code",
   "execution_count": null,
   "metadata": {},
   "outputs": [],
   "source": [
    "# Another common built-in function is 'len'. 'len' gives you the length (surprise) of anything\n",
    "# you use it on:\n",
    "\n",
    "print(len(\"Hello\"))\n",
    "\n",
    "# The string \"Hello\" has 5 characters, hence its length is 5.\n",
    "\n",
    "# Python has a lot of these and we discuss those functions as we need them."
   ]
  },
  {
   "attachments": {},
   "cell_type": "markdown",
   "metadata": {},
   "source": [
    "### Chapter 0.2: \"Functions and conditions\"\n",
    "\n",
    "Next, we will look at functions. A function is a piece of code that you know you will use often, but which you do not want\n",
    "to constantly rewrite and copy. The only thing you need to know about functions for now, is that they take *some* input and produce\n",
    "*some* output.\n",
    "\n",
    "We define functions with the 'def' keyword. Typically, a function looks like this:\n",
    "We tell the function to expect some inputs and to return some output.\n",
    "A function can use anything you want as input or output, even other functions! They\n",
    "are extremely useful."
   ]
  },
  {
   "cell_type": "code",
   "execution_count": null,
   "metadata": {},
   "outputs": [],
   "source": [
    "# Let's make our own multiplication function:\n",
    "\n",
    "a = 2\n",
    "b = 3\n",
    "\n",
    "def my_multiplication(input_1, input_2):\n",
    "    print(f\"input_1 = {input_1}\")\n",
    "    print(f\"input_2 = {input_2}\")\n",
    "    output = input_1 * input_2\n",
    "    return output\n",
    "\n",
    "# We can confirm that this works by *calling* the function. We tell the function to use 'a'\n",
    "# as input_1 and 'b' as input_2. The function returns our result, which we save in the variable 'c'.\n",
    "\n",
    "c = my_multiplication(input_1 = a, input_2 = b)\n",
    "print(c)"
   ]
  },
  {
   "cell_type": "code",
   "execution_count": null,
   "metadata": {},
   "outputs": [],
   "source": [
    "# You can omit the names of the inputs that the function wants. If you do this, it assumes that\n",
    "# you are providing the inputs in the correct order.\n",
    "\n",
    "d = my_multiplication(a, b)\n",
    "print(d)\n",
    "e = my_multiplication(b, a)\n",
    "print(e)"
   ]
  },
  {
   "cell_type": "code",
   "execution_count": null,
   "metadata": {},
   "outputs": [],
   "source": [
    "# Note that all functions require you to indent their code, so Python knows what is part of your\n",
    "# function and what isn't.\n",
    "\n",
    "# This function will work just fine:\n",
    "def f1(a, b):\n",
    "    c = a * b\n",
    "    return c\n",
    "\n",
    "# Even defining this function will cause an error, because the indentation is missing.\n",
    "def f2(a, b):\n",
    "c = a * b\n",
    "return c"
   ]
  },
  {
   "cell_type": "code",
   "execution_count": null,
   "metadata": {},
   "outputs": [],
   "source": [
    "# What happens if we give our function some input that will not work? Let's try.\n",
    "\n",
    "my_name = \"Freddy\"\n",
    "my_pets_name = \"Sparky\"\n",
    "\n",
    "f = my_multiplication(my_name, my_pets_name)"
   ]
  },
  {
   "cell_type": "code",
   "execution_count": null,
   "metadata": {},
   "outputs": [],
   "source": [
    "# Uh oh. Our function just broke, because you cant multiply words.\n",
    "# Of course, we knew this would happen, and that multiplication only works with numbers.\n",
    "# Python is a so-called dynamically typed language. What this means is that you can give any function\n",
    "# any input you like, and Python will go along with it and if it breaks, it breaks. Sometimes this is\n",
    "# very nice. But just now it broke our function. Therefore, let's introduce some typing.\n",
    "\n",
    "def my_multiplication_2(input_1: int, input_2: int) -> int:\n",
    "    output = input_1 * input_2\n",
    "    return output\n",
    "\n",
    "# Now, if I type 'my_multiplication_2(', Python will show me, what it wants, and what I get back.\n",
    "# Try it!\n",
    "\n"
   ]
  },
  {
   "cell_type": "code",
   "execution_count": null,
   "metadata": {},
   "outputs": [],
   "source": [
    "# Sometimes, you do not want to write every input for your function, but just assume that something is\n",
    "# the case. You can give default values for inputs like so:\n",
    "\n",
    "def pet_a_dog(dog_name: str, pet_twice: bool = True):\n",
    "    print(f\"Hello {dog_name}, who's a good boy?\")\n",
    "    if pet_twice is True:\n",
    "        print(\"I am petting the dog twice.\")\n",
    "    else:\n",
    "        print(\"I am petting the dog.\")\n",
    "    return None\n",
    "\n",
    "# Let's break down what happened here. First, we started defining a function. We tell the function that\n",
    "# it should expect an input 'dog_name', which is a string, and an input 'pet_twice', which is a boolean\n",
    "# (a True or a False). By telling the function pet_twice = True in the definition, we are telling the\n",
    "# function that pet_twice should be True by default. If a user overwrites the value, the user's value\n",
    "# takes precedence:\n",
    "\n",
    "# This function will pet the dog twice.\n",
    "pet_a_dog(dog_name = \"Sparky\")\n",
    "# This function will pet the dog only once.\n",
    "pet_a_dog(dog_name = \"Sparky\", pet_twice = False)\n",
    "# We can even omit the input names again, if we want. As long as everything is in the right order, the\n",
    "# function still works.\n",
    "pet_a_dog(\"Sparky\", False)"
   ]
  },
  {
   "cell_type": "code",
   "execution_count": null,
   "metadata": {},
   "outputs": [],
   "source": [
    "# We have also seen a very useful new concept in our pet_a_dog function - conditions.\n",
    "# We can make our code do different things, depending on any condition using the 'if', 'elif'\n",
    "# and 'else' keywords, followed by a colon. Whatever code we want to execute given that\n",
    "# condition must also be indented again.\n",
    "\n",
    "apple_price = 0.50\n",
    "\n",
    "if apple_price < 0.70:\n",
    "    print(\"Oh wow, that's a bargain! I will buy some apples.\")\n",
    "else:\n",
    "    print(\"Wow, these apples are expensive!\")"
   ]
  },
  {
   "cell_type": "code",
   "execution_count": null,
   "metadata": {},
   "outputs": [],
   "source": [
    "# We can also combine several conditions into one, by using the 'and', 'or' and 'not' keywords.\n",
    "\n",
    "apple_price = 0.50\n",
    "\n",
    "if apple_price < 0.40:\n",
    "    print(\"Oh wow, that's a bargain! I will buy some apples.\")\n",
    "elif apple_price >= 0.40 and apple_price < 0.70:\n",
    "    print(\"Hmm, that is not cheap, but I will buy a few apples.\")\n",
    "else:\n",
    "    print(\"Wow, these apples are expensive! No, thanks.\")"
   ]
  },
  {
   "cell_type": "code",
   "execution_count": null,
   "metadata": {},
   "outputs": [],
   "source": [
    "# Try writing a function or two of your own and see if they work as you want them to!\n",
    "\n",
    "\n",
    "\n",
    "\n",
    "\n",
    "\n"
   ]
  },
  {
   "attachments": {},
   "cell_type": "markdown",
   "metadata": {},
   "source": [
    "### Chapter 0.3: \"Import statements\"\n",
    "\n",
    "Often, code that we want to write already exists. In other cases, maybe the code we want to write is just too hard for\n",
    "us to write ourselves. In such cases, we 'import' code. Typically, this is done once, at the start of any program you\n",
    "write. As a general rule, it is good to import only the things you need. However, importing things you don't need is\n",
    "fine, too."
   ]
  },
  {
   "cell_type": "code",
   "execution_count": null,
   "metadata": {},
   "outputs": [],
   "source": [
    "# If we want to import code from a library called 'numpy', we do it like this:\n",
    "import numpy\n",
    "import math\n",
    "\n",
    "# We can even give it a new name, if we are particularly lazy. Now, instead of\n",
    "# calling a function by the name 'numpy.array', we can simply write 'np.array'.\n",
    "import numpy as np\n",
    "\n",
    "# If we only want something very specific, we can import one or several methods\n",
    "# like so:\n",
    "from numpy import array, random"
   ]
  },
  {
   "attachments": {},
   "cell_type": "markdown",
   "metadata": {},
   "source": [
    "Many of these libraries come pre-installed with Python, but are not always loaded, such as the os or sys libraries. Others must be installed first and can then be used.\n",
    "\n",
    "We can even make our own code, and import it, given some conditions:\n",
    "1) The file must be a regular .py file. While it is possible to import from Jupyter Notebooks (the thing we are working in right now), it is not recommended.\n",
    "2) The computer must know where to look for the files. You can extend the places that vscode will search by providing a custom environment, or even at runtime. Below, we show the latter method."
   ]
  },
  {
   "cell_type": "code",
   "execution_count": null,
   "metadata": {},
   "outputs": [],
   "source": [
    "import sys\n",
    "# Look for importable stuff in the current directory, ...\n",
    "sys.path.append(\"./\") \n",
    "# ... look in directory above, ...\n",
    "sys.path.append(\"../\") \n",
    "# ... and check the course materials provided by us.\n",
    "sys.path.append(\"/datashare/MLCourse/Course_Materials\")\n",
    "\n",
    "# Try to make a small file, for example 'my_library.py' by clicking the New File\n",
    "# button in the top left and renaming the file. Define a function of your choosing\n",
    "# in the file, and then import and test it here.\n",
    "\n",
    "\n"
   ]
  },
  {
   "attachments": {},
   "cell_type": "markdown",
   "metadata": {},
   "source": [
    "### Chapter 0.4: \"Data types\"\n",
    "\n",
    "Python has *a lot* different data structures, many of which we will learn about later.\n",
    "However, some are particularly useful. Even outside of the context of machine learning, it is good to know these."
   ]
  },
  {
   "attachments": {},
   "cell_type": "markdown",
   "metadata": {},
   "source": [
    "#### Chapter 0.4.1 \"Lists\""
   ]
  },
  {
   "cell_type": "code",
   "execution_count": null,
   "metadata": {},
   "outputs": [],
   "source": [
    "# The most common data type anywhere is probably the List. An explanation of what a List is works best when showing it.\n",
    "# This is a List:\n",
    "\n",
    "my_first_list = [2, 4, 6, 8]\n",
    "print(my_first_list)\n",
    "\n",
    "# You can have anything you want inside of a List - integer numbers, floating point numbers, strings, booleans, even\n",
    "# things like functions and other lists! This is a completely valid list:\n",
    "\n",
    "my_second_list = [2, \"4\", \"six\", 8.0, my_first_list]\n",
    "print(my_second_list)"
   ]
  },
  {
   "cell_type": "code",
   "execution_count": null,
   "metadata": {},
   "outputs": [],
   "source": [
    "# You can look at elements of your list by looking at the list at a specific index.\n",
    "# Note that when we look at anything like a list in Python, we start our indexing at 0, not 1.\n",
    "\n",
    "# This will print the first element of our list, the integer 2:\n",
    "print(my_first_list[0])\n",
    "# This will print the second element of our list, the integer 4:\n",
    "print(my_first_list[1])"
   ]
  },
  {
   "cell_type": "code",
   "execution_count": null,
   "metadata": {},
   "outputs": [],
   "source": [
    "# We can even start counting from the end and go towards the start.\n",
    "# This will print the last element of our list, the integer 8:\n",
    "print(my_first_list[-1])\n",
    "# This will print the second-to-last element of our list, the integer 6:\n",
    "print(my_first_list[-2])"
   ]
  },
  {
   "cell_type": "code",
   "execution_count": null,
   "metadata": {},
   "outputs": [],
   "source": [
    "# We can also look at parts of our list. Lets say that I want the first 2 values of my list.\n",
    "# This will give me a smaller list, containing the first two elements of my list:\n",
    "my_shorter_list = my_first_list[0:2]\n",
    "print(my_shorter_list)\n",
    "# The notation with the colon means \"start at index 0, stop at index 2\". Note that the stopping\n",
    "# point is NOT part of the new list."
   ]
  },
  {
   "cell_type": "code",
   "execution_count": null,
   "metadata": {},
   "outputs": [],
   "source": [
    "# Lists can also do other neat things.\n",
    "my_first_list = [2, 4, 6, 8]\n",
    "my_second_list = [2, \"4\", \"six\", 8.0]\n",
    "\n",
    "# They know how long they are:\n",
    "print(len(my_first_list))"
   ]
  },
  {
   "cell_type": "code",
   "execution_count": null,
   "metadata": {},
   "outputs": [],
   "source": [
    "# They know whether something is in them or not:\n",
    "if \"six\" in my_second_list:\n",
    "    print(\"Yup, 'six' is in my list.\")"
   ]
  },
  {
   "cell_type": "code",
   "execution_count": null,
   "metadata": {},
   "outputs": [],
   "source": [
    "# You can add new values to a list by 'appending' them:\n",
    "my_first_list.append(10)\n",
    "print(my_first_list)"
   ]
  },
  {
   "cell_type": "code",
   "execution_count": null,
   "metadata": {},
   "outputs": [],
   "source": [
    "# You can overwrite old elements with new ones:\n",
    "my_first_list[0] = 3\n",
    "print(my_first_list)"
   ]
  },
  {
   "cell_type": "code",
   "execution_count": null,
   "metadata": {},
   "outputs": [],
   "source": [
    "# You can even stick together two lists, by 'extending' a list:\n",
    "my_first_list.extend(my_second_list)\n",
    "print(my_first_list)"
   ]
  },
  {
   "attachments": {},
   "cell_type": "markdown",
   "metadata": {},
   "source": [
    "#### Chapter 0.4.2: \"Dicts\""
   ]
  },
  {
   "cell_type": "code",
   "execution_count": null,
   "metadata": {},
   "outputs": [],
   "source": [
    "# Another very common data type is the dict, or dictionary. It is somewhat similar to a list,\n",
    "# but not quite the same.\n",
    "# What makes dictionaries special is the way its contents are accessed. A dictionary has so-called\n",
    "# keys and values. To every key belongs a specific value. Keys are always unique, but values don't\n",
    "# have to be. \n",
    "\n",
    "# A typical dictionary looks like this:\n",
    "shopping_list = {\"apples\": 6, \"bananas\": 4, \"strawberries\": 20}\n",
    "print(shopping_list)\n",
    "\n",
    "# We can look at its contents with almost the same indexing we used for lists. Instead of looking\n",
    "# for index 0 or index 1 or something like that, we give the dictionary a key and ask it what the\n",
    "# value for this key is:\n",
    "num_apples = shopping_list[\"apples\"]\n",
    "print(num_apples)\n",
    "\n",
    "# The keys and values in a dictionary can be almost anything you want. However, it is much easier\n",
    "# and much less dangerous, if you use only strings or integers as keys. For values, you can do\n",
    "# whatever you want."
   ]
  },
  {
   "cell_type": "code",
   "execution_count": null,
   "metadata": {},
   "outputs": [],
   "source": [
    "# If you want to add something to an existing dicitonary, you can do so by providing the key and value.\n",
    "# Changing an existing value in a dictionary works the same way:\n",
    "shopping_list[\"apples\"] = 5\n",
    "shopping_list[\"pretzels\"] = 3\n",
    "print(shopping_list)"
   ]
  },
  {
   "cell_type": "code",
   "execution_count": null,
   "metadata": {},
   "outputs": [],
   "source": [
    "# If you want to extend your dictionary, you can do so using .update:\n",
    "sweets = {\"bonbons\": 30, \"chocolate_bars\": 2}\n",
    "shopping_list.update(sweets)\n",
    "print(shopping_list)"
   ]
  },
  {
   "cell_type": "code",
   "execution_count": null,
   "metadata": {},
   "outputs": [],
   "source": [
    "# A dictionary knows its own length:\n",
    "print(len(shopping_list))"
   ]
  },
  {
   "cell_type": "code",
   "execution_count": null,
   "metadata": {},
   "outputs": [],
   "source": [
    "# It also knows whether something is in it or not:\n",
    "if \"apples\" in list(shopping_list.keys()):\n",
    "    print(\"Apples are on my shopping list.\")"
   ]
  },
  {
   "cell_type": "code",
   "execution_count": null,
   "metadata": {},
   "outputs": [],
   "source": [
    "# You can even delete parts of your dictionary:\n",
    "del(shopping_list[\"bananas\"])\n",
    "print(shopping_list)"
   ]
  },
  {
   "attachments": {},
   "cell_type": "markdown",
   "metadata": {},
   "source": [
    "#### Chapter 0.4.3: \"Tuples\""
   ]
  },
  {
   "cell_type": "code",
   "execution_count": null,
   "metadata": {},
   "outputs": [],
   "source": [
    "# Tuples are a bit like lists. However, they have one key difference: Once you make a tuple,\n",
    "# you can't change it anymore. They are 'immutable'.\n",
    "# This may sound strange and plainly less useful than lists, but it can sometimes be faster\n",
    "# to use tuples over lists. There is also another feature you will find out about in a bit.\n",
    "\n",
    "# You can declare a tuple like this:\n",
    "my_tuple = (1, 2)\n",
    "\n",
    "# Just like lists and dicts, you can put basically anything into a tuple:\n",
    "another_tuple = (\"one\", 2.0, 3, \"4\")"
   ]
  },
  {
   "cell_type": "code",
   "execution_count": null,
   "metadata": {},
   "outputs": [],
   "source": [
    "# You can look at parts of your tuple just like with lists:\n",
    "print(another_tuple[0])\n",
    "print(another_tuple[0:3])"
   ]
  },
  {
   "cell_type": "code",
   "execution_count": null,
   "metadata": {},
   "outputs": [],
   "source": [
    "# You can check if something is in the tuple:\n",
    "if \"4\" in another_tuple:\n",
    "    print(\"Yup, '4' is in my tuple.\")"
   ]
  },
  {
   "cell_type": "code",
   "execution_count": null,
   "metadata": {},
   "outputs": [],
   "source": [
    "# Now, what are tuples actually good for? \n",
    "# Python comes with a neat feature called tuple unpacking. You can see this feature in action below:\n",
    "\n",
    "my_tuple = (1, 2, 3)\n",
    "a, b, c = my_tuple\n",
    "print(a)\n",
    "\n",
    "# Python just saw that I wanted to declare three variables. On the other side of the '=' was a tuple\n",
    "# with three entries, and Python assigned the first entry to my first variable, second to second, etc."
   ]
  },
  {
   "cell_type": "code",
   "execution_count": null,
   "metadata": {},
   "outputs": [],
   "source": [
    "# Why is this useful?\n",
    "# Let's say I have a function that calculates several things for me. I want to get back all the\n",
    "# different outputs, and I will be using them for separate things. Tuple unpacking will take the\n",
    "# output from the function and try to 'unpack' it into however many variables I suggest:\n",
    "\n",
    "def my_function(a: int, b: int):\n",
    "    c = a + b\n",
    "    d = a - b\n",
    "    return c, d\n",
    "\n",
    "e = 3\n",
    "f = 2\n",
    "\n",
    "# Here I suggest g and h as variables, and tuple unpacking will expect my function to give back\n",
    "# a tuple of length two.\n",
    "g, h = my_function(a = e, b = f)\n",
    "print(g)\n",
    "print(h)"
   ]
  },
  {
   "attachments": {},
   "cell_type": "markdown",
   "metadata": {},
   "source": [
    "#### Chapter 0.4.4: \"Numpy Arrays\""
   ]
  },
  {
   "cell_type": "code",
   "execution_count": null,
   "metadata": {},
   "outputs": [],
   "source": [
    "# Numpy arrays are also a little bit like lists. However, there are some differences.\n",
    "# Let's make one. We create an array by calling the numpy.array function. The only\n",
    "# argument this function absolutely needs is a list.\n",
    "\n",
    "my_array = np.array([2, 4, 6, 8, 10])\n",
    "print(my_array)\n",
    "\n",
    "# We can also tell numpy to make us an array, for exampling by telling it randomly\n",
    "# roll us some integers\n",
    "\n",
    "my_random_array = np.random.randint(low = 0, high = 5, size = 5, dtype = np.int8)\n",
    "print(my_random_array)\n",
    "\n",
    "# Notice the 'dtype'? Every numpy array has a dtype, and every element inside our\n",
    "# array is definitely of that type. In this case, all elements in our array are 8-bit\n",
    "# integers."
   ]
  },
  {
   "cell_type": "code",
   "execution_count": null,
   "metadata": {},
   "outputs": [],
   "source": [
    "# We can do some of the things with a numpy array that we could do with lists.\n",
    "# In fact, it makes sense to think of numpy arrays as lists, which are only used\n",
    "# for maths - in essence, numpy arrays are matrices.\n",
    "\n",
    "# They do most of the stuff that lists do, such as ...\n",
    "# ... accessing elements:\n",
    "print(my_array[0])"
   ]
  },
  {
   "cell_type": "code",
   "execution_count": null,
   "metadata": {},
   "outputs": [],
   "source": [
    "# ... slicing:\n",
    "print(my_array[0:3])"
   ]
  },
  {
   "cell_type": "code",
   "execution_count": null,
   "metadata": {},
   "outputs": [],
   "source": [
    "# ... length:\n",
    "print(len(my_array))"
   ]
  },
  {
   "cell_type": "code",
   "execution_count": null,
   "metadata": {},
   "outputs": [],
   "source": [
    "# They also have a multitude of other features, which we will look at in the future.\n",
    "# One of them is particularly important however. Numpy arrays can have an arbitrary\n",
    "# number of dimensions. For example:\n",
    "my_matrix = np.array([[1, 2, 3], [4, 5, 6], [7, 8, 9]])\n",
    "my_other_matrix = np.zeros(shape = (3, 3))\n",
    "print(my_matrix)\n",
    "print(my_other_matrix)\n",
    "\n",
    "# You can check the shape of a numpy array by checking its shape attribute like so:\n",
    "print(my_matrix.shape)"
   ]
  },
  {
   "cell_type": "code",
   "execution_count": null,
   "metadata": {},
   "outputs": [],
   "source": [
    "# Just like real matrices in maths, numpy arrays come with a ton of useful features,\n",
    "# such as transposing, summing, matrix multiplication, etc. Many of these will also\n",
    "# be available in PyTorch, which we will ultimately use for our machine learning.\n",
    "\n",
    "# Here are some examples.\n",
    "my_matrix = np.array([[1, 2, 3], [4, 5, 6], [7, 8, 9], [10, 11, 12]])\n",
    "\n",
    "# Transposition\n",
    "print(my_matrix.T)"
   ]
  },
  {
   "cell_type": "code",
   "execution_count": null,
   "metadata": {},
   "outputs": [],
   "source": [
    "# Reshaping\n",
    "print(np.reshape(my_matrix, (2, 6)))"
   ]
  },
  {
   "cell_type": "code",
   "execution_count": null,
   "metadata": {},
   "outputs": [],
   "source": [
    "# Flattening into a vector\n",
    "print(my_matrix.flatten())"
   ]
  },
  {
   "cell_type": "code",
   "execution_count": null,
   "metadata": {},
   "outputs": [],
   "source": [
    "# Operations along a dimension\n",
    "print(np.max(my_matrix, axis = 0))\n",
    "print(np.max(my_matrix, axis = 1))\n",
    "\n",
    "# It is impossible to know all of them by heart. What you need to know is how to\n",
    "# express what you want to do in as concrete terms as possible. If you can do that,\n",
    "# you will find any function you need on google or in the numpy documentation."
   ]
  },
  {
   "cell_type": "code",
   "execution_count": null,
   "metadata": {},
   "outputs": [],
   "source": [
    "# Try to create some lists, dictionaries, tuples and numpy arrays of your own.\n",
    "# If you know a math operation that you want to see, maybe a dot product, try\n",
    "# to find the function in numpy and see if it works the way you think it should!\n",
    "\n",
    "\n",
    "\n",
    "\n",
    "\n"
   ]
  },
  {
   "attachments": {},
   "cell_type": "markdown",
   "metadata": {},
   "source": [
    "### Chapter 0.5: \"Loops and Iterables\"\n",
    "\n",
    "Now that we've got some of the building blocks and know how to write code, let's do some problem solving.\n",
    "\n",
    "When you buy groceries, you put your perishable goods into the fridge (or so I hope). But, you don't close\n",
    "your eyes, take an item out of your bag and put it into the fridge and do this exactly three times or\n",
    "exactly 5 times. You always take the next thing in the bag and put it into the fridge, until the bag is\n",
    "empty, and you don't think about how many things you actually just put into the fridge exactly.\n",
    "\n",
    "The exact same pattern exists in programming and is one of the most common patterns in existence. This\n",
    "behaviour is called a 'loop'. Different languages handle loops slightly differently, but in broad strokes,\n",
    "they all do the same thing. Let's build some."
   ]
  },
  {
   "cell_type": "code",
   "execution_count": null,
   "metadata": {},
   "outputs": [],
   "source": [
    "# The most common loop in python is the 'for' loop. It consists of two parts. An iterable\n",
    "# and the loop segment. An iterable, in layman's terms, is something you can iterate over.\n",
    "# For example, a list like [1, 2, 3] is an iterable. The first element is a 1, the second\n",
    "# is a 2, and so on. An iterable is capable of giving you (at the very least) the next\n",
    "# item, and telling you when it has no more items.\n",
    "# The loop segment is code that is executed for each iteration. The only rules are that you\n",
    "# cannot change your iterable during the iteration, and that your code must be indented.\n",
    "\n",
    "# Let's look at a practical example:\n",
    "shopping_list = [\"Apples\", \"Bananas\", \"Strawberries\"]\n",
    "for item in shopping_list:\n",
    "    print(item)\n",
    "\n",
    "# Our loop iterates over the iterable, the shopping list.\n",
    "# On every iteration, it takes the next item on the list and puts it into the variable 'item'.\n",
    "# In our loop segment, we simply print the 'item' variable."
   ]
  },
  {
   "cell_type": "code",
   "execution_count": null,
   "metadata": {},
   "outputs": [],
   "source": [
    "# You can (and generally will) also access any other variables in your loop:\n",
    "numbers = [1, 4, 9, 16]\n",
    "sum = 0\n",
    "for number in numbers:\n",
    "    sum = sum + number\n",
    "print(sum)"
   ]
  },
  {
   "cell_type": "code",
   "execution_count": null,
   "metadata": {},
   "outputs": [],
   "source": [
    "# Behind lists, one of the most common iterables is probably the range object:\n",
    "for n in range(10):\n",
    "    print(n)"
   ]
  },
  {
   "cell_type": "code",
   "execution_count": null,
   "metadata": {},
   "outputs": [],
   "source": [
    "# An alternative to having either the content of an iterable or a number, is using 'enumerate',\n",
    "# which gives you both of them:\n",
    "for index, item in enumerate(numbers):\n",
    "    print(index, item)"
   ]
  },
  {
   "cell_type": "code",
   "execution_count": null,
   "metadata": {},
   "outputs": [],
   "source": [
    "# Sometimes, you have two iterables and want to do something with both of them.\n",
    "# For example, maybe you have two lists of numbers, and want to pair them up to multiply them,\n",
    "# like in a dot product. For such use cases, 'zip' exists.\n",
    "vector_a = [1, 2, 3]\n",
    "vector_b = [3, 0, 2]\n",
    "sum = 0\n",
    "for ai, bi in zip(vector_a, vector_b):\n",
    "    sum = sum + ai * bi\n",
    "print(sum)"
   ]
  },
  {
   "cell_type": "code",
   "execution_count": null,
   "metadata": {},
   "outputs": [],
   "source": [
    "# Loops also have some functionality to let you skip an iteration or stop the loop altogether.\n",
    "# The following function determines the smallest integers divisor of any integer in a very\n",
    "# naive fashion. We loop over all potential divisors from 0 to our dividend.\n",
    "\n",
    "# If the divisor is 0 or 1, we want to skip the current iteration. We do so with the keyword\n",
    "# 'continue'. The next iteration starts at the start of the for-loop's indentation\n",
    "\n",
    "# If the dividend modulo the divisor is 0, we have found our smallest divisor, and we want to\n",
    "# stop iterating. We can stop the iteration using the keyword 'break'. In this case, the code\n",
    "# skips ahead to where the indentation of the for-loop ends (see below).\n",
    "\n",
    "def find_smallest_divisor(dividend: int):\n",
    "    for divisor in range(dividend):\n",
    "        # continue jumps here\n",
    "        if divisor == 0 or divisor == 1:\n",
    "            continue\n",
    "        if dividend % divisor == 0:\n",
    "            break\n",
    "        if divisor== dividend-1:\n",
    "            print(f\"Looks like {dividend} is a prime!\")\n",
    "            return dividend\n",
    "    # break jumps here\n",
    "    return divisor\n",
    "\n",
    "print(find_smallest_divisor(9))\n",
    "print(find_smallest_divisor(17))"
   ]
  },
  {
   "cell_type": "code",
   "execution_count": null,
   "metadata": {},
   "outputs": [],
   "source": [
    "# One final thing that makes iterables cool: Progress bars.\n",
    "# Who doesn't like a good progress bar steadily filling up?\n",
    "# tqdm is a package that lets you display progress when\n",
    "# iterating over an iterable wrapped in tqdm.\n",
    "\n",
    "from tqdm.auto import tqdm\n",
    "import time\n",
    "\n",
    "my_numbers = [1, 2, 3, 4, 5]\n",
    "my_squares = []\n",
    "for number in tqdm(my_numbers):\n",
    "    my_squares.append(number ** 2)"
   ]
  },
  {
   "cell_type": "code",
   "execution_count": null,
   "metadata": {},
   "outputs": [],
   "source": [
    "# Try to make yourself a small toy problem and solve it using a for loop.\n",
    "\n",
    "# If your first thought was \"That is not a sensible prime number detector\n",
    "# up there\", maybe that could be your task :)\n",
    "\n",
    "\n",
    "\n",
    "\n"
   ]
  },
  {
   "attachments": {},
   "cell_type": "markdown",
   "metadata": {},
   "source": [
    "### Chapter 0.6: \"List Comprehensions\"\n",
    "\n",
    "Python contains a nifty little feature called List Comprehension. This allows you to write a piece of code that\n",
    "would otherwise be a little unwieldy in a single short expression."
   ]
  },
  {
   "cell_type": "code",
   "execution_count": null,
   "metadata": {},
   "outputs": [],
   "source": [
    "# The following two segments of code are equivalent and both create a list containing\n",
    "# the squares of the digits from 0 to 9:\n",
    "\n",
    "# Method 1\n",
    "squared_digits = []\n",
    "for x in range(10):\n",
    "    y = x ** 2\n",
    "    squared_digits.append(y)\n",
    "print(squared_digits)\n",
    "\n",
    "# Method 2\n",
    "squared_digits = [x ** 2 for x in range(10)]\n",
    "print(squared_digits)\n",
    "\n",
    "# We have essentially just executed an entire loop inside of the square brackets of\n",
    "# our list, at the moment of its creation."
   ]
  },
  {
   "cell_type": "code",
   "execution_count": null,
   "metadata": {},
   "outputs": [],
   "source": [
    "# This tool also works on other data types, such as tuples or dictionaries:\n",
    "squared_digits = {x: x**2 for x in range(10)}\n",
    "print(squared_digits)"
   ]
  },
  {
   "cell_type": "code",
   "execution_count": null,
   "metadata": {},
   "outputs": [],
   "source": [
    "# It can even handle more complex instructions, such as conditionals.\n",
    "# Let's make a list that contains only digits that are even.\n",
    "only_even_digits = [x for x in range(10) if x % 2 == 0]\n",
    "print(only_even_digits)"
   ]
  },
  {
   "cell_type": "code",
   "execution_count": null,
   "metadata": {},
   "outputs": [],
   "source": [
    "# Let's make one that containts even and odd digits, but even digits are squared.\n",
    "square_even_digits = [x ** 2 if x % 2 == 0 else x for x in range(10)]\n",
    "print(square_even_digits)\n",
    "\n",
    "# List comprehensions are an extremely powerful tool which is worth practicing a little."
   ]
  },
  {
   "cell_type": "code",
   "execution_count": null,
   "metadata": {},
   "outputs": [],
   "source": [
    "# Try to make a list containing the prime numbers up to 100 by using a list comprehension.\n",
    "# If you want to challenge yourself, try to do so without using any functions to check\n",
    "# whether a given number is prime. You can find a solution below.\n",
    "\n",
    "\n",
    "\n",
    "\n"
   ]
  },
  {
   "cell_type": "code",
   "execution_count": null,
   "metadata": {},
   "outputs": [],
   "source": [
    "# Solution with functions:\n",
    "def is_prime(dividend: int):\n",
    "    # If the dividend is smaller than 2, it can't be prime\n",
    "    if dividend < 2:\n",
    "        return False\n",
    "    # If the dividend is two, it is a prime.\n",
    "    elif dividend == 2:\n",
    "        return True\n",
    "    else:\n",
    "        # Try all divisors starting at 2 and up to the square root of the dividend\n",
    "        for divisor in range(2, max(3, int(np.sqrt(dividend)+1))):\n",
    "            if dividend % divisor == 0:\n",
    "                return False\n",
    "            else:\n",
    "                pass\n",
    "                # 'pass' means 'do nothing' - instead of writing\n",
    "                # else: pass, you can also simply write nothing\n",
    "        # If we have gotten past the loop without finding a divisor\n",
    "        # (and thus returning it), the number is a prime.\n",
    "        return True\n",
    "\n",
    "primesC = [x for x in range(1, 101) if is_prime(x) is True]\n",
    "print(primesC)\n",
    "\n",
    "# Solution without non-native functions:\n",
    "primesC = [x for x in range(2, 101) if len([y for y in range(2, max(3, int(math.sqrt(x)+1))) if (x % y == 0 and x != 2)]) == 0]\n",
    "print(primesC)\n",
    "\n",
    "# As a final note, we should mention that even though the second solution is maybe a little more clever\n",
    "# and shorter, the first solution is actually the better one by far - you always want your code to be readable!"
   ]
  },
  {
   "attachments": {},
   "cell_type": "markdown",
   "metadata": {},
   "source": [
    "### Chapter 0.7: \"OS and files\"\n",
    "\n",
    "When working with any sort of data, we will not only have to work with lists or arrays we made ourselves. Naturally, we will use pre-existing images or other data. Therefore, we need at least some passing familiarity with how our file system works, how we can open text files or images so that we can work with them.\n",
    "\n",
    "The most common function used when working with files is open(). In order to open a file, with open() or with any other function, you need to know where the file is. You can refer to files in two ways: relative paths and absolute paths.\n",
    "\n",
    "A relative path looks like this:\n",
    "```relative_path = \"./example.txt\"```.\n",
    "The ```.``` means \"start at the current folder\", the one that this notebook lives in.\n",
    "\n",
    "An absolute path looks like this:\n",
    "```absolute_path = \"/Projects/ML_Course/Course_Materials/Chapter_0/example.txt```.\n",
    "The ```/``` at the start means that you start at the bottom of the file system, also\n",
    "called \"root\", and then go from there.\n",
    "\n",
    "Let's play around with some files."
   ]
  },
  {
   "cell_type": "code",
   "execution_count": null,
   "metadata": {},
   "outputs": [],
   "source": [
    "# This is how you open a file in read mode:\n",
    "out = open(\"./example.txt\", \"r\")\n",
    "\n",
    "# This is how you read all lines from the text:\n",
    "lines = out.readlines()\n",
    "\n",
    "# Lines is a list, and each element of the list is one line of text:\n",
    "for line in lines:\n",
    "    print(line)\n",
    "\n",
    "# And this is how you close it:\n",
    "out.close()"
   ]
  },
  {
   "cell_type": "code",
   "execution_count": null,
   "metadata": {},
   "outputs": [],
   "source": [
    "# There is also a cleaner way of opening files, the 'with' statement:\n",
    "\n",
    "# Whatever you encapsulate in a 'with' is created for this context.\n",
    "with open(\"./example.txt\", \"r\") as out:\n",
    "    # I can use 'out' in here:\n",
    "    lines = out.readlines()\n",
    "\n",
    "# I would not be able to use 'out' outside of this context.\n",
    "# The context manager has closed 'out' for me again.\n",
    "# It has also thrown it away.\n",
    "\n",
    "# However, variables I created in the 'with' block still exist:\n",
    "for line in lines:\n",
    "    print(line)"
   ]
  },
  {
   "cell_type": "code",
   "execution_count": null,
   "metadata": {},
   "outputs": [],
   "source": [
    "# We can also write to files.\n",
    "# To do this, we open our file in write mode 'w' (which overwrites)\n",
    "# or in append mode 'a' (which appends what we write to the end):\n",
    "with open(\"./example.txt\", \"a\") as out:\n",
    "    # String writing allows some controls.\n",
    "    # For example, '\\n' denotes a newline, or '\\t' a tab.\n",
    "    out.write(\"\\n\")\n",
    "    out.write(\"Programming is easy.\\n\")\n",
    "    out.write(\"I am a god.\")\n",
    "\n",
    "# Let's confirm that writing to the file worked:\n",
    "with open(\"./example.txt\", \"r\") as out:\n",
    "    lines = out.readlines()\n",
    "for line in lines:\n",
    "    print(line)\n",
    "\n",
    "# We can also create files as we open them, if they don't yet exist.\n",
    "# This is done by using the 'w+' or 'a+' modes."
   ]
  },
  {
   "cell_type": "code",
   "execution_count": null,
   "metadata": {},
   "outputs": [],
   "source": [
    "# Now it's your turn for a moment.\n",
    "# Make yourself a shopping list. That list is a dictionary.\n",
    "# Each key is something you want to buy. Each value the amount.\n",
    "\n",
    "# Now try to use a loop and your knowledge of open() to make\n",
    "# a file called 'shopping_list.txt' and neatly write your\n",
    "# shopping list into the file.\n",
    "\n",
    "\n",
    "\n",
    "\n"
   ]
  },
  {
   "attachments": {},
   "cell_type": "markdown",
   "metadata": {},
   "source": [
    "Next, let's check out a format called csv - comma-separated values Originally, these were text files that looked something like this:\n",
    "\n",
    "1,2,3  \n",
    "4,5,6    \n",
    "7,8,9    \n",
    "\n",
    "Nowadays, its not uncommon to also write text or more esoteric things between the commas.\n",
    "\n",
    "Reading and writing to those files does not work differently from regular text files. However, there is several nice tools to help use this particular formatting style efficiently. For now, learning the simplest one of them will suffice."
   ]
  },
  {
   "cell_type": "code",
   "execution_count": null,
   "metadata": {},
   "outputs": [],
   "source": [
    "# split() is a simple method that every string is capable of.\n",
    "# You specify by what delimiter the string is supposed to be split.\n",
    "print(\"1,2,3\".split(\",\"))"
   ]
  },
  {
   "cell_type": "code",
   "execution_count": null,
   "metadata": {},
   "outputs": [],
   "source": [
    "# Try to read in the staff.csv file like you have learned above.\n",
    "# Using split and loops, make one list each which contains all\n",
    "# names, ages and genders.\n",
    "\n",
    "\n",
    "\n",
    "\n",
    "\n",
    "\n"
   ]
  },
  {
   "cell_type": "code",
   "execution_count": null,
   "metadata": {},
   "outputs": [],
   "source": [
    "# So, what do we do if we don't know where our files live, or what\n",
    "# their names are? It is quite common to have so much data, that\n",
    "# you cannot know all of it, nor manually write it.\n",
    "\n",
    "# The os package provides us with the tools that we need.\n",
    "import os\n",
    "\n",
    "# os.listdir() tells us the contents of a directory. It returns a list.\n",
    "# The \"./\" is the name of the directory to search and means 'wherever\n",
    "# we are right now.'\n",
    "output = os.listdir(\"./\")\n",
    "print(output)"
   ]
  },
  {
   "cell_type": "code",
   "execution_count": null,
   "metadata": {},
   "outputs": [],
   "source": [
    "# Notice that there is files and directories in the output.\n",
    "# Also, we have been told their names, but never their full paths.\n",
    "\n",
    "# Let's get some full paths using os.path.join().\n",
    "# os.path.join() attaches parts of a file's path to one another,\n",
    "# adding \"/\" as needed to make it a correct path.\n",
    "full_paths = [os.path.join(os.getcwd(), p) for p in output]\n",
    "print(full_paths)"
   ]
  },
  {
   "cell_type": "code",
   "execution_count": null,
   "metadata": {},
   "outputs": [],
   "source": [
    "# We can filter the output to contain only directories or files\n",
    "# using isdir and isfile:\n",
    "only_files = [p for p in full_paths if os.path.isfile(p)]\n",
    "only_dirs = [p for p in full_paths if os.path.isdir(p)]\n",
    "print(only_files)\n",
    "print(only_dirs)"
   ]
  },
  {
   "attachments": {},
   "cell_type": "markdown",
   "metadata": {},
   "source": [
    "Just as with any other package, os offers a ton of utility you will learn about at some point in time. For now, this knowledge will hopefully suffice."
   ]
  },
  {
   "attachments": {},
   "cell_type": "markdown",
   "metadata": {},
   "source": [
    "### Chapter 0.8: \"Try and Except\"\n",
    "\n",
    "We've seen earlier what happens if we break our code. Python will try to execute anything you write and only upon execution realize that maybe it was complete nonsense from the start. Sometimes such a mistake is easy to spot. Sometimes, it is buried within layers and layers of code and almost invisible. Worse, sometimes it's not even you who made the mistake!\n",
    "\n",
    "When you work with large amounts of data, you can not always guarantee that everything goes smoothly. Maybe one of your 3 million images has the wrong shape, or maybe it doesn't have an RGB channel, maybe the file is simply broken or the website you are downloading it from suddenly stops responding. How can you prevent an error that you don't know about in advance?\n",
    "\n",
    "Enter 'Try and Except'.\n",
    "\n",
    "Similar to 'If and Else', 'Try and Except' allows you to write code and execute it on some condition. However, for 'Try and Except', this condition is that Python is throwing an Exception. The 'Try' part wraps the code you want to run. The 'Except' part contains code that is executed if the 'Try' code fails."
   ]
  },
  {
   "cell_type": "code",
   "execution_count": null,
   "metadata": {},
   "outputs": [],
   "source": [
    "# Let's make some toy code using a Try/Except block.\n",
    "# We want to make a new list, which contains the result of a division.\n",
    "\n",
    "my_cool_number = 6\n",
    "divisors = [3, 2, 1, 0, \"a\"]\n",
    "\n",
    "new_numbers = []\n",
    "for d in divisors:\n",
    "    new_numbers.append(my_cool_number / d)\n",
    "print(new_numbers)"
   ]
  },
  {
   "cell_type": "code",
   "execution_count": null,
   "metadata": {},
   "outputs": [],
   "source": [
    "# Uh oh. We tried dividing by zero, which throws a ZeroDivisionError.\n",
    "# Let's say we don't mind having an infinity in our list:\n",
    "\n",
    "new_numbers = []\n",
    "for d in divisors:\n",
    "    try:\n",
    "        new_numbers.append(my_cool_number / d)\n",
    "    except:\n",
    "        new_numbers.append(np.inf)\n",
    "\n",
    "print(new_numbers)"
   ]
  },
  {
   "cell_type": "code",
   "execution_count": null,
   "metadata": {},
   "outputs": [],
   "source": [
    "# We have just intercepted every possible error during the for loop and said:\n",
    "# \"If you see any error, just jot down infinity as the result and carry on\".\n",
    "\n",
    "# Sometimes, this is not ideal. Only when you divide by zero is the result\n",
    "# going to be infinity. What if we have other errors? We can specify what kinds\n",
    "# of error we want to intercept and what kinds we let through:\n",
    "\n",
    "new_numbers = []\n",
    "for d in divisors:\n",
    "    try:\n",
    "        new_numbers.append(my_cool_number / d)\n",
    "    # We except the ZeroDivisionError specifically here\n",
    "    except ZeroDivisionError:\n",
    "        new_numbers.append(np.inf)\n",
    "    # We except multiple kinds of error like this, by putting them into a tuple\n",
    "    except (ValueError, TypeError):\n",
    "        pass\n",
    "    # Any kind of error we have not specifically caught is still raised,\n",
    "    # crashing your program.\n",
    "\n",
    "print(new_numbers)"
   ]
  },
  {
   "cell_type": "code",
   "execution_count": null,
   "metadata": {},
   "outputs": [],
   "source": [
    "# Try to think of some task that you could wrap in a Try/Except block and\n",
    "# test it, to see if Try/Except works the way you believe it should!\n",
    "\n",
    "\n",
    "\n"
   ]
  },
  {
   "attachments": {},
   "cell_type": "markdown",
   "metadata": {},
   "source": [
    "### Chapter 0.9: \"Classes and Inheritance\"\n",
    "\n",
    "Perhaps the most powerful object in Python is the *class*. Classes are extremely versatile and are used in pretty much every program out there, including PyTorch, which we will use for our actual machine learning exercises.\n",
    "\n",
    "To learn what classes can do, the best way is probably to make some!"
   ]
  },
  {
   "cell_type": "code",
   "execution_count": null,
   "metadata": {},
   "outputs": [],
   "source": [
    "# You define a class similarly to a function:\n",
    "class Dog:\n",
    "    pass\n",
    "\n",
    "# This is already a valid class! Of course, it does not do anything yet.\n",
    "\n",
    "# A class is a little bit like a blueprint. The class itself is not really a\n",
    "# thing - it is more of a concept.\n",
    "# To get a so-called instance of a class, we assign it to a variable:\n",
    "my_dog = Dog()\n",
    "print(my_dog)\n",
    "\n",
    "# The Dog class is the concept of dogs in general.\n",
    "# my_dog is a specific instance of a dog."
   ]
  },
  {
   "cell_type": "code",
   "execution_count": null,
   "metadata": {},
   "outputs": [],
   "source": [
    "# Let's breathe some life into our dog. The two most important things\n",
    "# that classes (can) have are called 'attributes' and 'methods'.\n",
    "# An example may help to illustrate what these things mean:\n",
    "\n",
    "class Dog:\n",
    "\n",
    "    def __init__(self):\n",
    "        self.name = \"Sparky\"\n",
    "\n",
    "    def bark(self):\n",
    "        print(\"WOOF!\")\n",
    "\n",
    "my_dog = Dog()"
   ]
  },
  {
   "cell_type": "code",
   "execution_count": null,
   "metadata": {},
   "outputs": [],
   "source": [
    "# We have just made a new, upgraded Dog class.\n",
    "\n",
    "# As you can see, we have given it a name (self.name = \"Sparky\").\n",
    "# The dog's name is what we call an attribute. It can be accessed\n",
    "# from outside like this:\n",
    "print(my_dog.name)\n",
    "\n",
    "# We can also change it from the outside:\n",
    "my_dog.name = \"Good Boy\"\n",
    "print(my_dog.name)\n",
    "\n",
    "# We can even add (or delete) attributes from the outside:\n",
    "my_dog.age = 1\n",
    "print(my_dog.age)\n",
    "\n",
    "# Attributes can be anything, really: A string (like a name), a number,\n",
    "# another class instance, and even really esoteric stuff."
   ]
  },
  {
   "cell_type": "code",
   "execution_count": null,
   "metadata": {},
   "outputs": [],
   "source": [
    "# The dog's bark function is what we call a method. \n",
    "# Methods are normal functions, which we happened to define inside of our class.\n",
    "\n",
    "# They are something that only our class can do, meaning we could write\n",
    "my_dog.bark()\n",
    "# but could not just write 'bark()'."
   ]
  },
  {
   "cell_type": "code",
   "execution_count": null,
   "metadata": {},
   "outputs": [],
   "source": [
    "# Functions inside of a class can do the same things as regular functions,\n",
    "# such as taking input or returning output. They are also called Methods.\n",
    "\n",
    "class Dog:\n",
    "\n",
    "    def __init__(self):\n",
    "        self.name = \"Sparky\"\n",
    "\n",
    "    def bark(self):\n",
    "        print(\"WOOF!\")\n",
    "\n",
    "    def bark_n_times(self, barks: int):\n",
    "        for n in range(barks):\n",
    "            print(\"WOOF!\")\n",
    "\n",
    "    def is_a_good_boy(self):\n",
    "        return f\"{self.name} smiles. He is a good boy.\"\n",
    "\n",
    "my_dog = Dog()\n",
    "my_dog.bark_n_times(barks = 3)\n",
    "print(my_dog.is_a_good_boy())"
   ]
  },
  {
   "attachments": {},
   "cell_type": "markdown",
   "metadata": {},
   "source": [
    "You have probably already noticed a few weird things about the Dog class\n",
    "which we have been looking at until now, and it's time to talk about them.\n",
    "\n",
    "1) What does 'self' mean? Why is it everywhere in the class, but seemingly\n",
    "unnecessary when we call my_dog.bark_n_times(barks = 3) for example?\n",
    "\n",
    "When we make a class, any function inside of it that we do not specifically\n",
    "mark to be treated otherwise is a so-called bound method. When we have\n",
    "created a class instance, that instance is passed as the first parameter\n",
    "of any bound method. An example may help to understand what this means:"
   ]
  },
  {
   "cell_type": "code",
   "execution_count": null,
   "metadata": {},
   "outputs": [],
   "source": [
    "# This\n",
    "print(my_dog.is_a_good_boy())\n",
    "# is equivalent to this\n",
    "print(Dog.is_a_good_boy(my_dog))\n",
    "\n",
    "# Because of this, we are allowed to do these things in functions inside of a class:\n",
    "def is_a_good_boy(self):\n",
    "    return f\"{self.name} smiles. He is a good boy.\"\n",
    "# This would work inside of the Dog class.\n",
    "\n",
    "# To put it into simpler words: Methods of a class instance are aware of who they are.\n",
    "# The dog knows its own name, age, and so on."
   ]
  },
  {
   "attachments": {},
   "cell_type": "markdown",
   "metadata": {},
   "source": [
    "2. Why does the '\\_\\_init\\_\\_' function look so weird? What does it do and why does it have underscores in its name?\n",
    "\n",
    "Some function names, like '\\_\\_init\\_\\_', are what we call 'privileged'. If you name a function in a class this way, Python will do special things with it. Here is a few examples:\n",
    "\n",
    "- If a class contains an '\\_\\_init\\_\\_' function, the function is called when an instance of the class is created. \n",
    "- If a class contains a '\\_\\_len\\_\\_' function, you can use the built-in len() function on an instance of your class, and it will execute its '\\_\\_len\\_\\_' function.\n",
    "\n",
    "Be careful about using privileged names when writing functions, particularly if they are available everywhere and not just inside of a class."
   ]
  },
  {
   "cell_type": "code",
   "execution_count": null,
   "metadata": {},
   "outputs": [],
   "source": [
    "class Dataset:\n",
    "\n",
    "    def __init__(self):\n",
    "        self.data = [1, 2, 3, 4]\n",
    "\n",
    "    def __len__(self):\n",
    "        # You could write anything here - you could even, as a joke, always return 3,\n",
    "        # no matter what self.data actually is.\n",
    "        return len(self.data)\n",
    "\n",
    "# The '__init__' function is called here, although you don't see it.\n",
    "# But self.data already exists:\n",
    "my_dataset = Dataset()\n",
    "print(my_dataset.data)\n",
    "\n",
    "# The '__len__' function is called here.\n",
    "print(len(my_dataset))"
   ]
  },
  {
   "attachments": {},
   "cell_type": "markdown",
   "metadata": {},
   "source": [
    "Now it's time to talk about a feature called inheritance. Classes can 'inherit' from another class by specifying that class in their definition. The child class can do anything that the parent class can, meaning it has access to all the same methods and attributes, and everything is named the same. You can then add your own things to the child class just like usually. If you name something the same name as it was named in the parent class, you overwrite the parent method or attribute with your new one.\n",
    "\n",
    "Let's see the concept in action below."
   ]
  },
  {
   "cell_type": "code",
   "execution_count": null,
   "metadata": {},
   "outputs": [],
   "source": [
    "from collections import UserList\n",
    "\n",
    "class Cool_List(UserList):\n",
    "\n",
    "    def __init__(self, input_list):\n",
    "        self.data = input_list\n",
    "\n",
    "    # We can overwrite methods of our parent class\n",
    "    def __len__(self):\n",
    "        print(\"I am too cool to tell you my real length.\")\n",
    "        return 0\n",
    "\n",
    "    # Or we can add methods ourselves\n",
    "    def be_cool(self):\n",
    "        print(\"😎\")\n",
    "\n",
    "# Let's make a normal list\n",
    "my_list = [1, 2, 3]\n",
    "print(len(my_list))\n",
    "\n",
    "# Now we make an instance of a cool_list, and we hand it our original list\n",
    "my_cool_list = Cool_List(my_list)\n",
    "# It's __len__ method has been overwritten with a new one\n",
    "print(len(my_cool_list))\n",
    "# It has a new method, which a regular list does not have\n",
    "my_cool_list.be_cool()\n",
    "# Other methods (for example '__str__', used for printing) are inherited from\n",
    "# the parent. We can verify this by trying to print the child class instance:\n",
    "print(my_cool_list)"
   ]
  },
  {
   "cell_type": "code",
   "execution_count": null,
   "metadata": {},
   "outputs": [],
   "source": [
    "# Finally, note that the name of our class, Dog, was written with a capital\n",
    "# letter at the start. This is not mandatory, but its a sort of recommendation,\n",
    "# which can help keep your code clean."
   ]
  },
  {
   "cell_type": "markdown",
   "metadata": {},
   "source": [
    "### Chapter 0.10: \"Debugging\"\n",
    "\n",
    "The following code snippets will each contain a mistake. Try executing them, and figure out where the mistake is coming from and how you can fix it.\n",
    "\n",
    "At the end of the chapter, you can find a solution with an explanation of what was wrong."
   ]
  },
  {
   "cell_type": "code",
   "execution_count": null,
   "metadata": {},
   "outputs": [],
   "source": [
    "# Task 1\n",
    "\n",
    "# We want to look at the last entry in this list\n",
    "my_list = [1, 4, 9, 16]\n",
    "\n",
    "# However, this fails:\n",
    "print(my_list[4])\n",
    "# Why, and how do I fix it?"
   ]
  },
  {
   "cell_type": "code",
   "execution_count": null,
   "metadata": {},
   "outputs": [],
   "source": [
    "# Task 2\n",
    "\n",
    "# This is a basic cat class\n",
    "class Cat:\n",
    "\n",
    "    def __init__(self, name: str, color: str = \"Black\"):\n",
    "        self.name = name\n",
    "        self.color = color\n",
    "\n",
    "    def meow(self, loud: bool):\n",
    "        if loud is True:\n",
    "            print(\"MEOW!\")\n",
    "        else:\n",
    "            print(\"Meow!\")\n",
    "\n",
    "# This is a cat instance\n",
    "my_cat = Cat(name = \"Findus\", color = \"Tabby\")"
   ]
  },
  {
   "cell_type": "code",
   "execution_count": null,
   "metadata": {},
   "outputs": [],
   "source": [
    "# Why doesn't my cat meow when I do this?\n",
    "my_cat.meow"
   ]
  },
  {
   "cell_type": "code",
   "execution_count": null,
   "metadata": {},
   "outputs": [],
   "source": [
    "# Why do I see a \"None\" when I try to print the output of the meow method?\n",
    "the_sound_of_a_cat = my_cat.meow(loud = True)\n",
    "print(the_sound_of_a_cat)"
   ]
  },
  {
   "cell_type": "code",
   "execution_count": null,
   "metadata": {},
   "outputs": [],
   "source": [
    "# Task 3\n",
    "\n",
    "# This functtion should calculate the factorial\n",
    "def factorial(n):\n",
    "    result = 1\n",
    "    for i in range(1, n):\n",
    "          result = result * i\n",
    "    return result\n",
    "\n",
    "# If we look at the result, however, we notice it is 24 instead of 120.\n",
    "print(factorial(5))\n",
    "# Why? Fix the function and try running it again."
   ]
  },
  {
   "cell_type": "code",
   "execution_count": null,
   "metadata": {},
   "outputs": [],
   "source": [
    "# Task 4\n",
    "\n",
    "class Car:\n",
    "\n",
    "    def __init__(self, color: str, model: str, honk_sound: str = \"HONK!\"):\n",
    "        self.color = color\n",
    "        self.model = model\n",
    "        self.honk_sound = honk_sound\n",
    "\n",
    "    def honk():\n",
    "        print(self.honk_sound)\n",
    "\n",
    "# This car should honk. But it doesn't. Instead it throws a TypeError. Why?\n",
    "my_car = Car(color = \"Black\", model = \"Mercedes\")\n",
    "my_car.honk()"
   ]
  },
  {
   "cell_type": "code",
   "execution_count": 7,
   "metadata": {},
   "outputs": [
    {
     "name": "stdout",
     "output_type": "stream",
     "text": [
      "10\n"
     ]
    }
   ],
   "source": [
    "# Task 5\n",
    "\n",
    "a = 10\n",
    "def subtract_five(b):\n",
    "    b = b - 5\n",
    "subtract_five(b = a)\n",
    "print(a)\n",
    "\n",
    "# You'd think that if a is 10, and I give a to the function subtract_five,\n",
    "# and then the function makes it 5, that a should be 5. Why is it 10?\n",
    "# And how do I make it so the function actually makes a = 5?\n"
   ]
  },
  {
   "cell_type": "code",
   "execution_count": null,
   "metadata": {},
   "outputs": [],
   "source": [
    "# Task 6\n",
    "\n",
    "from time import sleep\n",
    "\n",
    "# Let's say we have some numbers. We want to add the sum of each\n",
    "# pair of neighbors to the list of numbers, as well.\n",
    "\n",
    "numbers = [0, 1, 2, 3, 4, 5, 6, 7, 8, 9]\n",
    "for i, number in enumerate(numbers):\n",
    "    sleep(0.5)\n",
    "    print(numbers[i], numbers[i+1])\n",
    "    a = numbers[i]\n",
    "    b = numbers[i+1]\n",
    "    c = a+b\n",
    "    numbers.append(c)\n",
    "\n",
    "# Watch in slow motion what happens. Why does it keep going?\n",
    "# Will it ever stop? How do you fix this?"
   ]
  },
  {
   "cell_type": "markdown",
   "metadata": {},
   "source": [
    "### Solutions"
   ]
  },
  {
   "cell_type": "markdown",
   "metadata": {},
   "source": [
    "#### Task 1\n",
    "\n",
    "This code snippet throws an IndexError because you are trying to access an index that doesn't exist. In Python, the indices of iterable objects (for example the list [1, 4, 9, 16]) are counted starting from 0. This means that the indices 0, 1, 2, and 3 are valid.\n",
    "\n",
    "An even better solution than calling print(my_list[3]) would be to call print(my_list[-1]). Python considers -1 the last index of an iterable, -2 the second-to-last, and so on."
   ]
  },
  {
   "cell_type": "markdown",
   "metadata": {},
   "source": [
    "#### Task 2\n",
    "\n",
    "`my_cat.meow` is a method of `my_cat`. If you want to call a method, just like other functions, you must use parentheses:\n",
    "`my_cat.meow(loud = True)`.\n",
    "\n",
    "Just like regular functions, class methods can return something. In fact, they always return something! If you do not tell your function to return anything, it will assume you want to return nothing. Writing\n",
    "```\n",
    "def do_nothing():\n",
    "   sleep(1)\n",
    "   return None\n",
    "```\n",
    "is equivalent to writing\n",
    "```\n",
    "def do_nothing():\n",
    "   sleep(1)\n",
    "```\n",
    "\n",
    "If you wrote\n",
    "```\n",
    "x = do_nothing()\n",
    "print(x)\n",
    "```\n",
    "you would always see \"None\" get printed. This is what happens in Task 2 as well."
   ]
  },
  {
   "cell_type": "markdown",
   "metadata": {},
   "source": [
    "#### Task 3\n",
    "\n",
    "The factorial function is \"forgetting\" to multiply by 5 in this example. In fact, it would always \"forget\" to multiply by the last number it should multiply by. This is because range(a, b) covers the values from a to b, but not b itself. The correct expression for the task would be `range(1, n+1)`."
   ]
  },
  {
   "cell_type": "markdown",
   "metadata": {},
   "source": [
    "#### Task 4\n",
    "\n",
    "```\n",
    "def honk():\n",
    "    print(self.honk_sound)\n",
    "```\n",
    "should instead be\n",
    "```\n",
    "def honk(self):\n",
    "    print(self.honk_sound)\n",
    "```\n",
    "\n",
    "What happens is that the function we defined wants no inputs. But since its a bound method of the Car class, when we call it, the function is implicitly given self as the input. The error message hints that this is the case. Our function *wanted* 0 arguments, but will always be given 1 inside of the class."
   ]
  },
  {
   "cell_type": "markdown",
   "metadata": {},
   "source": [
    "#### Task 5\n",
    "\n",
    "This concept is called Scope. \n",
    "\n",
    "The variable b only exists inside of this function. We say \"b exists only in the local scope\". Meanwhile, \"a exists in the global scope\". Hence, inside the function we only know about b, but not about a, while outside the function, we know about a, but not about b. If we tried to print b right after pringting a, Python would tell us that we're trying to print something that doesn't exist.\n",
    "\n",
    "Note that its absolutely possible for a variable to be made available in a different scope. For example, you can bring b from the function's local scope to the global scope, simply by returning b at the end:\n",
    "```\n",
    "a = 10\n",
    "def subtract_five(b):\n",
    "    b = b - 5\n",
    "    return b\n",
    "c = subtract_five(b = a)\n",
    "print(a)\n",
    "print(c)\n",
    "```\n",
    "You will find that both a and c are printable, because this time, we have brought the b from the function and then said \"call this 'new thing' c.\" If we instead said ```a = subtract_five(b = a)```, we would set a to 5."
   ]
  },
  {
   "cell_type": "markdown",
   "metadata": {},
   "source": [
    "#### Task 6\n",
    "\n",
    "We have just created an infinite iterator. We append to the end of the list while we are reading from it. During every step, we add one new number and use one old number for the last time, and this will go on forever. Whenever your code seems to not do anything but takes forever, or prints things into the console at incredible speed, without looking like it will stop, something like this might have happened.\n",
    "\n",
    "How can we stop this?\n",
    "- Make sure you don't change the iterable you are currently using (such as our original list of numbers), unless that is explicitly what you want.\n",
    "- Use Dictionaries. Dictionaries simply don't allow you to change them while you are iterating over them, so this will never happen."
   ]
  },
  {
   "cell_type": "markdown",
   "metadata": {},
   "source": []
  }
 ],
 "metadata": {
  "kernelspec": {
   "display_name": "Python 3.9.13 ('mlcourse')",
   "language": "python",
   "name": "python3"
  },
  "language_info": {
   "codemirror_mode": {
    "name": "ipython",
    "version": 3
   },
   "file_extension": ".py",
   "mimetype": "text/x-python",
   "name": "python",
   "nbconvert_exporter": "python",
   "pygments_lexer": "ipython3",
   "version": "3.9.13"
  },
  "orig_nbformat": 4,
  "vscode": {
   "interpreter": {
    "hash": "9f4642e4193f43e6f9f9ec99b4fb2ae3c2d6546286024c98d0ac98837a56613f"
   }
  }
 },
 "nbformat": 4,
 "nbformat_minor": 2
}
